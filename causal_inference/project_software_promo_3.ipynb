{
 "cells": [
  {
   "cell_type": "code",
   "execution_count": 14,
   "metadata": {},
   "outputs": [],
   "source": [
    "%load_ext autoreload\n",
    "%autoreload 2"
   ]
  },
  {
   "cell_type": "code",
   "execution_count": 16,
   "metadata": {},
   "outputs": [],
   "source": [
    "import numpy as np\n",
    "import pandas as pd\n",
    "import logging\n",
    "\n",
    "import dowhy\n",
    "from dowhy import CausalModel\n",
    "from IPython.display import Image, display\n",
    "import warnings\n",
    "warnings.filterwarnings('ignore')"
   ]
  },
  {
   "cell_type": "code",
   "execution_count": 6,
   "metadata": {},
   "outputs": [
    {
     "data": {
      "application/vnd.microsoft.datawrangler.viewer.v0+json": {
       "columns": [
        {
         "name": "index",
         "rawType": "int64",
         "type": "integer"
        },
        {
         "name": "Global Flag",
         "rawType": "int64",
         "type": "integer"
        },
        {
         "name": "Major Flag",
         "rawType": "int64",
         "type": "integer"
        },
        {
         "name": "SMC Flag",
         "rawType": "int64",
         "type": "integer"
        },
        {
         "name": "Commercial Flag",
         "rawType": "int64",
         "type": "integer"
        },
        {
         "name": "IT Spend",
         "rawType": "int64",
         "type": "integer"
        },
        {
         "name": "Employee Count",
         "rawType": "int64",
         "type": "integer"
        },
        {
         "name": "PC Count",
         "rawType": "int64",
         "type": "integer"
        },
        {
         "name": "Size",
         "rawType": "int64",
         "type": "integer"
        },
        {
         "name": "Tech Support",
         "rawType": "int64",
         "type": "integer"
        },
        {
         "name": "Discount",
         "rawType": "int64",
         "type": "integer"
        },
        {
         "name": "Revenue",
         "rawType": "float64",
         "type": "float"
        }
       ],
       "conversionMethod": "pd.DataFrame",
       "ref": "3e8f9f2b-0044-45b9-bf66-45e2864d7220",
       "rows": [
        [
         "0",
         "1",
         "0",
         "1",
         "0",
         "45537",
         "26",
         "26",
         "152205",
         "0",
         "1",
         "17688.363"
        ],
        [
         "1",
         "0",
         "0",
         "1",
         "1",
         "20842",
         "107",
         "70",
         "159038",
         "0",
         "1",
         "14981.43559"
        ],
        [
         "2",
         "0",
         "0",
         "0",
         "1",
         "82171",
         "10",
         "7",
         "264935",
         "1",
         "1",
         "32917.13894"
        ],
        [
         "3",
         "0",
         "0",
         "0",
         "0",
         "30288",
         "40",
         "39",
         "77522",
         "1",
         "1",
         "14773.76855"
        ],
        [
         "4",
         "0",
         "0",
         "1",
         "0",
         "25930",
         "37",
         "43",
         "91446",
         "1",
         "1",
         "17098.69823"
        ]
       ],
       "shape": {
        "columns": 11,
        "rows": 5
       }
      },
      "text/html": [
       "<div>\n",
       "<style scoped>\n",
       "    .dataframe tbody tr th:only-of-type {\n",
       "        vertical-align: middle;\n",
       "    }\n",
       "\n",
       "    .dataframe tbody tr th {\n",
       "        vertical-align: top;\n",
       "    }\n",
       "\n",
       "    .dataframe thead th {\n",
       "        text-align: right;\n",
       "    }\n",
       "</style>\n",
       "<table border=\"1\" class=\"dataframe\">\n",
       "  <thead>\n",
       "    <tr style=\"text-align: right;\">\n",
       "      <th></th>\n",
       "      <th>Global Flag</th>\n",
       "      <th>Major Flag</th>\n",
       "      <th>SMC Flag</th>\n",
       "      <th>Commercial Flag</th>\n",
       "      <th>IT Spend</th>\n",
       "      <th>Employee Count</th>\n",
       "      <th>PC Count</th>\n",
       "      <th>Size</th>\n",
       "      <th>Tech Support</th>\n",
       "      <th>Discount</th>\n",
       "      <th>Revenue</th>\n",
       "    </tr>\n",
       "  </thead>\n",
       "  <tbody>\n",
       "    <tr>\n",
       "      <th>0</th>\n",
       "      <td>1</td>\n",
       "      <td>0</td>\n",
       "      <td>1</td>\n",
       "      <td>0</td>\n",
       "      <td>45537</td>\n",
       "      <td>26</td>\n",
       "      <td>26</td>\n",
       "      <td>152205</td>\n",
       "      <td>0</td>\n",
       "      <td>1</td>\n",
       "      <td>17688.36300</td>\n",
       "    </tr>\n",
       "    <tr>\n",
       "      <th>1</th>\n",
       "      <td>0</td>\n",
       "      <td>0</td>\n",
       "      <td>1</td>\n",
       "      <td>1</td>\n",
       "      <td>20842</td>\n",
       "      <td>107</td>\n",
       "      <td>70</td>\n",
       "      <td>159038</td>\n",
       "      <td>0</td>\n",
       "      <td>1</td>\n",
       "      <td>14981.43559</td>\n",
       "    </tr>\n",
       "    <tr>\n",
       "      <th>2</th>\n",
       "      <td>0</td>\n",
       "      <td>0</td>\n",
       "      <td>0</td>\n",
       "      <td>1</td>\n",
       "      <td>82171</td>\n",
       "      <td>10</td>\n",
       "      <td>7</td>\n",
       "      <td>264935</td>\n",
       "      <td>1</td>\n",
       "      <td>1</td>\n",
       "      <td>32917.13894</td>\n",
       "    </tr>\n",
       "    <tr>\n",
       "      <th>3</th>\n",
       "      <td>0</td>\n",
       "      <td>0</td>\n",
       "      <td>0</td>\n",
       "      <td>0</td>\n",
       "      <td>30288</td>\n",
       "      <td>40</td>\n",
       "      <td>39</td>\n",
       "      <td>77522</td>\n",
       "      <td>1</td>\n",
       "      <td>1</td>\n",
       "      <td>14773.76855</td>\n",
       "    </tr>\n",
       "    <tr>\n",
       "      <th>4</th>\n",
       "      <td>0</td>\n",
       "      <td>0</td>\n",
       "      <td>1</td>\n",
       "      <td>0</td>\n",
       "      <td>25930</td>\n",
       "      <td>37</td>\n",
       "      <td>43</td>\n",
       "      <td>91446</td>\n",
       "      <td>1</td>\n",
       "      <td>1</td>\n",
       "      <td>17098.69823</td>\n",
       "    </tr>\n",
       "  </tbody>\n",
       "</table>\n",
       "</div>"
      ],
      "text/plain": [
       "   Global Flag  Major Flag  SMC Flag  Commercial Flag  IT Spend  \\\n",
       "0            1           0         1                0     45537   \n",
       "1            0           0         1                1     20842   \n",
       "2            0           0         0                1     82171   \n",
       "3            0           0         0                0     30288   \n",
       "4            0           0         1                0     25930   \n",
       "\n",
       "   Employee Count  PC Count    Size  Tech Support  Discount      Revenue  \n",
       "0              26        26  152205             0         1  17688.36300  \n",
       "1             107        70  159038             0         1  14981.43559  \n",
       "2              10         7  264935             1         1  32917.13894  \n",
       "3              40        39   77522             1         1  14773.76855  \n",
       "4              37        43   91446             1         1  17098.69823  "
      ]
     },
     "execution_count": 6,
     "metadata": {},
     "output_type": "execute_result"
    }
   ],
   "source": [
    "# Step 2: Load the dataset\n",
    "path = 'data/raw/multi_attribution_sample.csv'\n",
    "data = pd.read_csv(path)\n",
    "data.head()"
   ]
  },
  {
   "cell_type": "markdown",
   "metadata": {},
   "source": [
    "# Identifying the causal estimand"
   ]
  },
  {
   "cell_type": "code",
   "execution_count": 25,
   "metadata": {},
   "outputs": [
    {
     "data": {
      "image/png": "[encoded data removed]",
      "text/plain": [
       "<Figure size 800x600 with 1 Axes>"
      ]
     },
     "metadata": {},
     "output_type": "display_data"
    }
   ],
   "source": [
    "# Define variables\n",
    "covariates = ['Global Flag', 'Major Flag', 'SMC Flag', 'Commercial Flag', 'IT Spend', 'Employee Count', 'PC Count', 'Size']\n",
    "outcome = 'Revenue'\n",
    "treatment = 'Tech Support'\n",
    "\n",
    "data['Tech Support'] = data['Tech Support'].astype(bool)\n",
    "\n",
    "# Define effect modifiers (variables over which treatment effect may vary)\n",
    "effect_modifiers = covariates.copy()\n",
    "\n",
    "model=CausalModel(\n",
    "    data = data,\n",
    "    treatment=treatment,\n",
    "    outcome=outcome,\n",
    "    common_causes=covariates,\n",
    "    effect_modifiers=effect_modifiers\n",
    ")\n",
    "\n",
    "model.view_model()"
   ]
  },
  {
   "cell_type": "code",
   "execution_count": 12,
   "metadata": {},
   "outputs": [
    {
     "name": "stdout",
     "output_type": "stream",
     "text": [
      "Estimand type: nonparametric-ate\n",
      "\n",
      "### Estimand : 1\n",
      "Estimand name: backdoor\n",
      "Estimand expression:\n",
      "       d                                                                       ↪\n",
      "───────────────(E[Revenue|Commercial Flag,Employee Count,Global Flag,Major Fla ↪\n",
      "d[Tech Support]                                                                ↪\n",
      "\n",
      "↪                                    \n",
      "↪ g,Size,PC Count,SMC Flag,IT Spend])\n",
      "↪                                    \n",
      "Estimand assumption 1, Unconfoundedness: If U→{Tech Support} and U→Revenue then P(Revenue|Tech Support,Commercial Flag,Employee Count,Global Flag,Major Flag,Size,PC Count,SMC Flag,IT Spend,U) = P(Revenue|Tech Support,Commercial Flag,Employee Count,Global Flag,Major Flag,Size,PC Count,SMC Flag,IT Spend)\n",
      "\n",
      "### Estimand : 2\n",
      "Estimand name: iv\n",
      "No such variable(s) found!\n",
      "\n",
      "### Estimand : 3\n",
      "Estimand name: frontdoor\n",
      "No such variable(s) found!\n",
      "\n"
     ]
    }
   ],
   "source": [
    "identified_estimand = model.identify_effect(proceed_when_unidentifiable=True)\n",
    "print(identified_estimand)"
   ]
  },
  {
   "cell_type": "markdown",
   "metadata": {},
   "source": [
    "# Method 1: Regression"
   ]
  },
  {
   "cell_type": "code",
   "execution_count": 17,
   "metadata": {},
   "outputs": [
    {
     "name": "stdout",
     "output_type": "stream",
     "text": [
      "linear_regression\n",
      "{'control_value': 0, 'treatment_value': 1, 'test_significance': True, 'evaluate_effect_strength': False, 'confidence_intervals': False, 'target_units': 'ate', 'effect_modifiers': ['Global Flag', 'Major Flag', 'SMC Flag', 'Commercial Flag', 'IT Spend', 'Employee Count', 'PC Count', 'Size']}\n",
      "*** Causal Estimate ***\n",
      "\n",
      "## Identified estimand\n",
      "Estimand type: nonparametric-ate\n",
      "\n",
      "### Estimand : 1\n",
      "Estimand name: backdoor\n",
      "Estimand expression:\n",
      "       d                                                                       ↪\n",
      "───────────────(E[Revenue|Commercial Flag,Employee Count,Global Flag,Major Fla ↪\n",
      "d[Tech Support]                                                                ↪\n",
      "\n",
      "↪                                    \n",
      "↪ g,Size,PC Count,SMC Flag,IT Spend])\n",
      "↪                                    \n",
      "Estimand assumption 1, Unconfoundedness: If U→{Tech Support} and U→Revenue then P(Revenue|Tech Support,Commercial Flag,Employee Count,Global Flag,Major Flag,Size,PC Count,SMC Flag,IT Spend,U) = P(Revenue|Tech Support,Commercial Flag,Employee Count,Global Flag,Major Flag,Size,PC Count,SMC Flag,IT Spend)\n",
      "\n",
      "## Realized estimand\n",
      "b: Revenue~Tech Support+Commercial Flag+Employee Count+Global Flag+Major Flag+Size+PC Count+SMC Flag+IT Spend+Tech Support*Global Flag+Tech Support*Major Flag+Tech Support*SMC Flag+Tech Support*Commercial Flag+Tech Support*IT Spend+Tech Support*Employee Count+Tech Support*PC Count+Tech Support*Size\n",
      "Target units: ate\n",
      "\n",
      "## Estimate\n",
      "Mean value: 7149.602434150651\n",
      "p-value: [1.46670459e-28]\n",
      "### Conditional Estimates\n",
      "__categorical__Global Flag  __categorical__Major Flag  __categorical__SMC Flag  __categorical__Commercial Flag  __categorical__IT Spend  __categorical__Employee Count  __categorical__PC Count  __categorical__Size \n",
      "(-0.001, 1.0]               (-0.001, 1.0]              (-0.001, 1.0]            (-0.001, 1.0]                   (1160.999, 7550.6]       (9.999, 21.0]                  (5.999, 18.0]            (10100.999, 31759.2]     4881.881532\n",
      "                                                                                                                                                                                                 (31759.2, 62990.2]       5765.251631\n",
      "                                                                                                                                                                                                 (62990.2, 104927.0]      6056.429079\n",
      "                                                                                                                                                                        (18.0, 32.0]             (10100.999, 31759.2]     4838.694410\n",
      "                                                                                                                                                                                                 (31759.2, 62990.2]       5588.894969\n",
      "                                                                                                                                                                                                                             ...     \n",
      "                                                                                                                (44039.2, 259808.0]      (57.0, 92.0]                   (85.0, 407.0]            (180322.8, 766485.0]    12243.439382\n",
      "                                                                                                                                         (92.0, 535.0]                  (52.0, 85.0]             (104927.0, 180322.8]     9085.877344\n",
      "                                                                                                                                                                                                 (180322.8, 766485.0]    11399.406369\n",
      "                                                                                                                                                                        (85.0, 407.0]            (104927.0, 180322.8]     7465.489734\n",
      "                                                                                                                                                                                                 (180322.8, 766485.0]    11261.574379\n",
      "Length: 185, dtype: float64\n",
      "Causal Estimate is 7149.602434150651\n"
     ]
    }
   ],
   "source": [
    "causal_estimate_reg = model.estimate_effect(identified_estimand,\n",
    "        method_name=\"backdoor.linear_regression\",\n",
    "        test_significance=True)\n",
    "print(causal_estimate_reg)\n",
    "print(\"Causal Estimate is \" + str(causal_estimate_reg.value))"
   ]
  },
  {
   "cell_type": "markdown",
   "metadata": {},
   "source": [
    "# Method 2: Distance Matching"
   ]
  },
  {
   "cell_type": "code",
   "execution_count": 26,
   "metadata": {},
   "outputs": [
    {
     "name": "stdout",
     "output_type": "stream",
     "text": [
      "distance_matching\n",
      "*** Causal Estimate ***\n",
      "\n",
      "## Identified estimand\n",
      "Estimand type: nonparametric-ate\n",
      "\n",
      "### Estimand : 1\n",
      "Estimand name: backdoor\n",
      "Estimand expression:\n",
      "       d                                                                       ↪\n",
      "───────────────(E[Revenue|Commercial Flag,Employee Count,Global Flag,Major Fla ↪\n",
      "d[Tech Support]                                                                ↪\n",
      "\n",
      "↪                                    \n",
      "↪ g,Size,PC Count,SMC Flag,IT Spend])\n",
      "↪                                    \n",
      "Estimand assumption 1, Unconfoundedness: If U→{Tech Support} and U→Revenue then P(Revenue|Tech Support,Commercial Flag,Employee Count,Global Flag,Major Flag,Size,PC Count,SMC Flag,IT Spend,U) = P(Revenue|Tech Support,Commercial Flag,Employee Count,Global Flag,Major Flag,Size,PC Count,SMC Flag,IT Spend)\n",
      "\n",
      "## Realized estimand\n",
      "b: Revenue~Tech Support+Commercial Flag+Employee Count+Global Flag+Major Flag+Size+PC Count+SMC Flag+IT Spend\n",
      "Target units: ate\n",
      "\n",
      "## Estimate\n",
      "Mean value: 7473.374002301602\n",
      "\n",
      "Causal Estimate is 7473.374002301602\n"
     ]
    }
   ],
   "source": [
    "causal_estimate_dmatch = model.estimate_effect(identified_estimand,\n",
    "                                              method_name=\"backdoor.distance_matching\",\n",
    "                                            #   target_units=treatment,\n",
    "                                              method_params={'distance_metric':\"minkowski\", 'p':2})\n",
    "print(causal_estimate_dmatch)\n",
    "print(\"Causal Estimate is \" + str(causal_estimate_dmatch.value))"
   ]
  },
  {
   "cell_type": "markdown",
   "metadata": {},
   "source": [
    "# Method 3: Propensity Score Stratification"
   ]
  },
  {
   "cell_type": "code",
   "execution_count": 28,
   "metadata": {},
   "outputs": [
    {
     "name": "stdout",
     "output_type": "stream",
     "text": [
      "propensity_score_stratification\n",
      "*** Causal Estimate ***\n",
      "\n",
      "## Identified estimand\n",
      "Estimand type: nonparametric-ate\n",
      "\n",
      "### Estimand : 1\n",
      "Estimand name: backdoor\n",
      "Estimand expression:\n",
      "       d                                                                       ↪\n",
      "───────────────(E[Revenue|Commercial Flag,Employee Count,Global Flag,Major Fla ↪\n",
      "d[Tech Support]                                                                ↪\n",
      "\n",
      "↪                                    \n",
      "↪ g,Size,PC Count,SMC Flag,IT Spend])\n",
      "↪                                    \n",
      "Estimand assumption 1, Unconfoundedness: If U→{Tech Support} and U→Revenue then P(Revenue|Tech Support,Commercial Flag,Employee Count,Global Flag,Major Flag,Size,PC Count,SMC Flag,IT Spend,U) = P(Revenue|Tech Support,Commercial Flag,Employee Count,Global Flag,Major Flag,Size,PC Count,SMC Flag,IT Spend)\n",
      "\n",
      "## Realized estimand\n",
      "b: Revenue~Tech Support+Commercial Flag+Employee Count+Global Flag+Major Flag+Size+PC Count+SMC Flag+IT Spend\n",
      "Target units: att\n",
      "\n",
      "## Estimate\n",
      "Mean value: 7488.159761534007\n",
      "\n",
      "Causal Estimate is 7488.159761534007\n"
     ]
    }
   ],
   "source": [
    "causal_estimate_strat = model.estimate_effect(identified_estimand,\n",
    "                                              method_name=\"backdoor.propensity_score_stratification\",\n",
    "                                              target_units=\"att\")\n",
    "print(causal_estimate_strat)\n",
    "print(\"Causal Estimate is \" + str(causal_estimate_strat.value))"
   ]
  },
  {
   "cell_type": "markdown",
   "metadata": {},
   "source": [
    "# Method 4: Propensity Score Matching"
   ]
  },
  {
   "cell_type": "code",
   "execution_count": 30,
   "metadata": {},
   "outputs": [
    {
     "name": "stdout",
     "output_type": "stream",
     "text": [
      "propensity_score_matching\n",
      "*** Causal Estimate ***\n",
      "\n",
      "## Identified estimand\n",
      "Estimand type: nonparametric-ate\n",
      "\n",
      "### Estimand : 1\n",
      "Estimand name: backdoor\n",
      "Estimand expression:\n",
      "       d                                                                       ↪\n",
      "───────────────(E[Revenue|Commercial Flag,Employee Count,Global Flag,Major Fla ↪\n",
      "d[Tech Support]                                                                ↪\n",
      "\n",
      "↪                                    \n",
      "↪ g,Size,PC Count,SMC Flag,IT Spend])\n",
      "↪                                    \n",
      "Estimand assumption 1, Unconfoundedness: If U→{Tech Support} and U→Revenue then P(Revenue|Tech Support,Commercial Flag,Employee Count,Global Flag,Major Flag,Size,PC Count,SMC Flag,IT Spend,U) = P(Revenue|Tech Support,Commercial Flag,Employee Count,Global Flag,Major Flag,Size,PC Count,SMC Flag,IT Spend)\n",
      "\n",
      "## Realized estimand\n",
      "b: Revenue~Tech Support+Commercial Flag+Employee Count+Global Flag+Major Flag+Size+PC Count+SMC Flag+IT Spend\n",
      "Target units: atc\n",
      "\n",
      "## Estimate\n",
      "Mean value: 6807.248718700097\n",
      "\n",
      "Causal Estimate is 6807.248718700097\n"
     ]
    }
   ],
   "source": [
    "causal_estimate_match = model.estimate_effect(identified_estimand,\n",
    "                                              method_name=\"backdoor.propensity_score_matching\",\n",
    "                                              target_units=\"atc\")\n",
    "print(causal_estimate_match)\n",
    "print(\"Causal Estimate is \" + str(causal_estimate_match.value))"
   ]
  },
  {
   "cell_type": "markdown",
   "metadata": {},
   "source": [
    "# Method 5: Weighting"
   ]
  },
  {
   "cell_type": "code",
   "execution_count": 31,
   "metadata": {},
   "outputs": [
    {
     "name": "stdout",
     "output_type": "stream",
     "text": [
      "propensity_score_weighting\n",
      "*** Causal Estimate ***\n",
      "\n",
      "## Identified estimand\n",
      "Estimand type: nonparametric-ate\n",
      "\n",
      "### Estimand : 1\n",
      "Estimand name: backdoor\n",
      "Estimand expression:\n",
      "       d                                                                       ↪\n",
      "───────────────(E[Revenue|Commercial Flag,Employee Count,Global Flag,Major Fla ↪\n",
      "d[Tech Support]                                                                ↪\n",
      "\n",
      "↪                                    \n",
      "↪ g,Size,PC Count,SMC Flag,IT Spend])\n",
      "↪                                    \n",
      "Estimand assumption 1, Unconfoundedness: If U→{Tech Support} and U→Revenue then P(Revenue|Tech Support,Commercial Flag,Employee Count,Global Flag,Major Flag,Size,PC Count,SMC Flag,IT Spend,U) = P(Revenue|Tech Support,Commercial Flag,Employee Count,Global Flag,Major Flag,Size,PC Count,SMC Flag,IT Spend)\n",
      "\n",
      "## Realized estimand\n",
      "b: Revenue~Tech Support+Commercial Flag+Employee Count+Global Flag+Major Flag+Size+PC Count+SMC Flag+IT Spend\n",
      "Target units: ate\n",
      "\n",
      "## Estimate\n",
      "Mean value: 7576.578351161785\n",
      "\n",
      "Causal Estimate is 7576.578351161785\n"
     ]
    }
   ],
   "source": [
    "causal_estimate_ipw = model.estimate_effect(identified_estimand,\n",
    "                                            method_name=\"backdoor.propensity_score_weighting\",\n",
    "                                            target_units = \"ate\",\n",
    "                                            method_params={\"weighting_scheme\":\"ips_weight\"})\n",
    "print(causal_estimate_ipw)\n",
    "print(\"Causal Estimate is \" + str(causal_estimate_ipw.value))"
   ]
  },
  {
   "cell_type": "markdown",
   "metadata": {},
   "source": [
    "# Method 6: Instrumental Variable"
   ]
  },
  {
   "cell_type": "code",
   "execution_count": 33,
   "metadata": {},
   "outputs": [
    {
     "name": "stdout",
     "output_type": "stream",
     "text": [
      "instrumental_variable\n",
      "Estimation failed! No relevant identified estimand available for this estimation method.\n",
      "Causal Estimate is None\n"
     ]
    }
   ],
   "source": [
    "causal_estimate_iv = model.estimate_effect(identified_estimand,\n",
    "        method_name=\"iv.instrumental_variable\", method_params = {'iv_instrument_name': 'Z0'})\n",
    "print(causal_estimate_iv)\n",
    "print(\"Causal Estimate is \" + str(causal_estimate_iv.value))"
   ]
  },
  {
   "cell_type": "code",
   "execution_count": 34,
   "metadata": {},
   "outputs": [],
   "source": [
    "# Method 7: Regression Discontinuity"
   ]
  },
  {
   "cell_type": "code",
   "execution_count": 35,
   "metadata": {},
   "outputs": [
    {
     "name": "stdout",
     "output_type": "stream",
     "text": [
      "regression_discontinuity\n",
      "Estimation failed! No relevant identified estimand available for this estimation method.\n",
      "Causal Estimate is None\n"
     ]
    }
   ],
   "source": [
    "causal_estimate_regdist = model.estimate_effect(identified_estimand,\n",
    "        method_name=\"iv.regression_discontinuity\", \n",
    "        method_params={'rd_variable_name':'Z1',\n",
    "                       'rd_threshold_value':0.5,\n",
    "                       'rd_bandwidth': 0.15})\n",
    "print(causal_estimate_regdist)\n",
    "print(\"Causal Estimate is \" + str(causal_estimate_regdist.value))"
   ]
  }
 ],
 "metadata": {
  "kernelspec": {
   "display_name": ".causal_inference",
   "language": "python",
   "name": "python3"
  },
  "language_info": {
   "codemirror_mode": {
    "name": "ipython",
    "version": 3
   },
   "file_extension": ".py",
   "mimetype": "text/x-python",
   "name": "python",
   "nbconvert_exporter": "python",
   "pygments_lexer": "ipython3",
   "version": "3.12.2"
  }
 },
 "nbformat": 4,
 "nbformat_minor": 2
}
