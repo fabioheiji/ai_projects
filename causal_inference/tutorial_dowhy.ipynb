{
 "cells": [
  {
   "cell_type": "code",
   "execution_count": 1,
   "metadata": {},
   "outputs": [],
   "source": [
    "%load_ext autoreload\n",
    "%autoreload 2"
   ]
  },
  {
   "cell_type": "code",
   "execution_count": 2,
   "metadata": {},
   "outputs": [],
   "source": [
    "import numpy as np\n",
    "import pandas as pd\n",
    "import logging\n",
    "\n",
    "import dowhy\n",
    "from dowhy import CausalModel\n",
    "import dowhy.datasets "
   ]
  },
  {
   "cell_type": "code",
   "execution_count": 5,
   "metadata": {},
   "outputs": [
    {
     "data": {
      "application/vnd.microsoft.datawrangler.viewer.v0+json": {
       "columns": [
        {
         "name": "index",
         "rawType": "int64",
         "type": "integer"
        },
        {
         "name": "Z0",
         "rawType": "float64",
         "type": "float"
        },
        {
         "name": "Z1",
         "rawType": "float64",
         "type": "float"
        },
        {
         "name": "W0",
         "rawType": "float64",
         "type": "float"
        },
        {
         "name": "W1",
         "rawType": "float64",
         "type": "float"
        },
        {
         "name": "W2",
         "rawType": "float64",
         "type": "float"
        },
        {
         "name": "W3",
         "rawType": "float64",
         "type": "float"
        },
        {
         "name": "W4",
         "rawType": "float64",
         "type": "float"
        },
        {
         "name": "v0",
         "rawType": "bool",
         "type": "boolean"
        },
        {
         "name": "y",
         "rawType": "float64",
         "type": "float"
        }
       ],
       "conversionMethod": "pd.DataFrame",
       "ref": "6a70a4a3-3816-48b8-a29b-52c55f0484de",
       "rows": [
        [
         "0",
         "1.0",
         "0.743533020131422",
         "-0.7247013104165256",
         "1.0141176851984048",
         "-2.1218642938622074",
         "0.35779601905594804",
         "-1.065372508460538",
         "True",
         "-2.1115109335882103"
        ],
        [
         "1",
         "1.0",
         "0.73424800059684",
         "3.010329390260895",
         "0.6089355885423927",
         "0.5592506259887481",
         "-0.8563687153102633",
         "1.78018114312649",
         "True",
         "24.38323919288415"
        ],
        [
         "2",
         "1.0",
         "0.49075931212922685",
         "-0.38489474158070713",
         "2.029081594435402",
         "0.1776782655035668",
         "0.0456472381274442",
         "1.115809196020576",
         "True",
         "14.202480278414026"
        ],
        [
         "3",
         "1.0",
         "0.3305913809233305",
         "1.326405881766926",
         "0.9559074707451194",
         "0.7709686148150809",
         "0.07747632143226113",
         "0.5790116284870024",
         "True",
         "20.661952508301034"
        ],
        [
         "4",
         "1.0",
         "0.30065695662252534",
         "1.700823730436135",
         "1.3734924890165319",
         "0.2484533983701458",
         "0.6507983284209558",
         "-1.5982345913785305",
         "True",
         "18.167621362987383"
        ]
       ],
       "shape": {
        "columns": 9,
        "rows": 5
       }
      },
      "text/html": [
       "<div>\n",
       "<style scoped>\n",
       "    .dataframe tbody tr th:only-of-type {\n",
       "        vertical-align: middle;\n",
       "    }\n",
       "\n",
       "    .dataframe tbody tr th {\n",
       "        vertical-align: top;\n",
       "    }\n",
       "\n",
       "    .dataframe thead th {\n",
       "        text-align: right;\n",
       "    }\n",
       "</style>\n",
       "<table border=\"1\" class=\"dataframe\">\n",
       "  <thead>\n",
       "    <tr style=\"text-align: right;\">\n",
       "      <th></th>\n",
       "      <th>Z0</th>\n",
       "      <th>Z1</th>\n",
       "      <th>W0</th>\n",
       "      <th>W1</th>\n",
       "      <th>W2</th>\n",
       "      <th>W3</th>\n",
       "      <th>W4</th>\n",
       "      <th>v0</th>\n",
       "      <th>y</th>\n",
       "    </tr>\n",
       "  </thead>\n",
       "  <tbody>\n",
       "    <tr>\n",
       "      <th>0</th>\n",
       "      <td>1.0</td>\n",
       "      <td>0.743533</td>\n",
       "      <td>-0.724701</td>\n",
       "      <td>1.014118</td>\n",
       "      <td>-2.121864</td>\n",
       "      <td>0.357796</td>\n",
       "      <td>-1.065373</td>\n",
       "      <td>True</td>\n",
       "      <td>-2.111511</td>\n",
       "    </tr>\n",
       "    <tr>\n",
       "      <th>1</th>\n",
       "      <td>1.0</td>\n",
       "      <td>0.734248</td>\n",
       "      <td>3.010329</td>\n",
       "      <td>0.608936</td>\n",
       "      <td>0.559251</td>\n",
       "      <td>-0.856369</td>\n",
       "      <td>1.780181</td>\n",
       "      <td>True</td>\n",
       "      <td>24.383239</td>\n",
       "    </tr>\n",
       "    <tr>\n",
       "      <th>2</th>\n",
       "      <td>1.0</td>\n",
       "      <td>0.490759</td>\n",
       "      <td>-0.384895</td>\n",
       "      <td>2.029082</td>\n",
       "      <td>0.177678</td>\n",
       "      <td>0.045647</td>\n",
       "      <td>1.115809</td>\n",
       "      <td>True</td>\n",
       "      <td>14.202480</td>\n",
       "    </tr>\n",
       "    <tr>\n",
       "      <th>3</th>\n",
       "      <td>1.0</td>\n",
       "      <td>0.330591</td>\n",
       "      <td>1.326406</td>\n",
       "      <td>0.955907</td>\n",
       "      <td>0.770969</td>\n",
       "      <td>0.077476</td>\n",
       "      <td>0.579012</td>\n",
       "      <td>True</td>\n",
       "      <td>20.661953</td>\n",
       "    </tr>\n",
       "    <tr>\n",
       "      <th>4</th>\n",
       "      <td>1.0</td>\n",
       "      <td>0.300657</td>\n",
       "      <td>1.700824</td>\n",
       "      <td>1.373492</td>\n",
       "      <td>0.248453</td>\n",
       "      <td>0.650798</td>\n",
       "      <td>-1.598235</td>\n",
       "      <td>True</td>\n",
       "      <td>18.167621</td>\n",
       "    </tr>\n",
       "  </tbody>\n",
       "</table>\n",
       "</div>"
      ],
      "text/plain": [
       "    Z0        Z1        W0        W1        W2        W3        W4    v0  \\\n",
       "0  1.0  0.743533 -0.724701  1.014118 -2.121864  0.357796 -1.065373  True   \n",
       "1  1.0  0.734248  3.010329  0.608936  0.559251 -0.856369  1.780181  True   \n",
       "2  1.0  0.490759 -0.384895  2.029082  0.177678  0.045647  1.115809  True   \n",
       "3  1.0  0.330591  1.326406  0.955907  0.770969  0.077476  0.579012  True   \n",
       "4  1.0  0.300657  1.700824  1.373492  0.248453  0.650798 -1.598235  True   \n",
       "\n",
       "           y  \n",
       "0  -2.111511  \n",
       "1  24.383239  \n",
       "2  14.202480  \n",
       "3  20.661953  \n",
       "4  18.167621  "
      ]
     },
     "execution_count": 5,
     "metadata": {},
     "output_type": "execute_result"
    }
   ],
   "source": [
    "data = dowhy.datasets.linear_dataset(beta=10,\n",
    "        num_common_causes=5, \n",
    "        num_instruments = 2,\n",
    "        num_treatments=1,\n",
    "        num_samples=10000,\n",
    "        treatment_is_binary=True,\n",
    "        outcome_is_binary=False,\n",
    "        stddev_treatment_noise=10)\n",
    "df = data[\"df\"]\n",
    "df.head()"
   ]
  },
  {
   "cell_type": "code",
   "execution_count": 6,
   "metadata": {},
   "outputs": [],
   "source": [
    "# With graph\n",
    "model=CausalModel(\n",
    "        data = df,\n",
    "        treatment=data[\"treatment_name\"],\n",
    "        outcome=data[\"outcome_name\"],\n",
    "        graph=data[\"gml_graph\"],\n",
    "        instruments=data[\"instrument_names\"]\n",
    "        )"
   ]
  },
  {
   "cell_type": "code",
   "execution_count": 8,
   "metadata": {},
   "outputs": [
    {
     "data": {
      "image/png": "[encoded data removed]",
      "text/plain": [
       "<Figure size 800x600 with 1 Axes>"
      ]
     },
     "metadata": {},
     "output_type": "display_data"
    }
   ],
   "source": [
    "model.view_model()"
   ]
  },
  {
   "cell_type": "code",
   "execution_count": 10,
   "metadata": {},
   "outputs": [
    {
     "data": {
      "text/plain": [
       "['v0']"
      ]
     },
     "execution_count": 10,
     "metadata": {},
     "output_type": "execute_result"
    }
   ],
   "source": [
    "data[\"treatment_name\"]"
   ]
  },
  {
   "cell_type": "code",
   "execution_count": 11,
   "metadata": {},
   "outputs": [
    {
     "name": "stdout",
     "output_type": "stream",
     "text": [
      "['v0']\n",
      "y\n",
      "graph[directed 1node[ id \"y\" label \"y\"]node[ id \"W0\" label \"W0\"] node[ id \"W1\" label \"W1\"] node[ id \"W2\" label \"W2\"] node[ id \"W3\" label \"W3\"] node[ id \"W4\" label \"W4\"]node[ id \"Z0\" label \"Z0\"] node[ id \"Z1\" label \"Z1\"]node[ id \"v0\" label \"v0\"]edge[source \"v0\" target \"y\"]edge[ source \"W0\" target \"v0\"] edge[ source \"W1\" target \"v0\"] edge[ source \"W2\" target \"v0\"] edge[ source \"W3\" target \"v0\"] edge[ source \"W4\" target \"v0\"]edge[ source \"Z0\" target \"v0\"] edge[ source \"Z1\" target \"v0\"]edge[ source \"W0\" target \"y\"] edge[ source \"W1\" target \"y\"] edge[ source \"W2\" target \"y\"] edge[ source \"W3\" target \"y\"] edge[ source \"W4\" target \"y\"]]\n",
      "['Z0', 'Z1']\n"
     ]
    }
   ],
   "source": [
    "print(data[\"treatment_name\"])\n",
    "print(data[\"outcome_name\"])\n",
    "print(data[\"gml_graph\"])\n",
    "print(data[\"instrument_names\"])"
   ]
  }
 ],
 "metadata": {
  "kernelspec": {
   "display_name": ".causal_inference",
   "language": "python",
   "name": "python3"
  },
  "language_info": {
   "codemirror_mode": {
    "name": "ipython",
    "version": 3
   },
   "file_extension": ".py",
   "mimetype": "text/x-python",
   "name": "python",
   "nbconvert_exporter": "python",
   "pygments_lexer": "ipython3",
   "version": "3.12.2"
  }
 },
 "nbformat": 4,
 "nbformat_minor": 2
}
