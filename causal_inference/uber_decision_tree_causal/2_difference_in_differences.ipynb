{
 "cells": [
  {
   "cell_type": "code",
   "execution_count": 1,
   "metadata": {},
   "outputs": [
    {
     "name": "stdout",
     "output_type": "stream",
     "text": [
      "                            OLS Regression Results                            \n",
      "==============================================================================\n",
      "Dep. Variable:                      y   R-squared:                       0.302\n",
      "Model:                            OLS   Adj. R-squared:                  0.297\n",
      "Method:                 Least Squares   F-statistic:                     57.23\n",
      "Date:                Wed, 12 Mar 2025   Prob (F-statistic):           9.39e-31\n",
      "Time:                        23:39:40   Log-Likelihood:                -1495.3\n",
      "No. Observations:                 400   AIC:                             2999.\n",
      "Df Residuals:                     396   BIC:                             3015.\n",
      "Df Model:                           3                                         \n",
      "Covariance Type:            nonrobust                                         \n",
      "==============================================================================\n",
      "                 coef    std err          t      P>|t|      [0.025      0.975]\n",
      "------------------------------------------------------------------------------\n",
      "const         49.7789      1.022     48.703      0.000      47.769      51.788\n",
      "treated        0.2226      1.445      0.154      0.878      -2.619       3.064\n",
      "post           5.6174      1.445      3.886      0.000       2.776       8.459\n",
      "did           10.6728      2.044      5.221      0.000       6.654      14.692\n",
      "==============================================================================\n",
      "Omnibus:                        2.752   Durbin-Watson:                   1.301\n",
      "Prob(Omnibus):                  0.253   Jarque-Bera (JB):                2.620\n",
      "Skew:                           0.197   Prob(JB):                        0.270\n",
      "Kurtosis:                       3.038   Cond. No.                         6.85\n",
      "==============================================================================\n",
      "\n",
      "Notes:\n",
      "[1] Standard Errors assume that the covariance matrix of the errors is correctly specified.\n",
      "Difference-in-Differences Estimate (β₃): 10.672833838406941\n",
      "\n",
      "Identified Estimand: Estimand type: nonparametric-ate\n",
      "\n",
      "### Estimand : 1\n",
      "Estimand name: backdoor\n",
      "Estimand expression:\n",
      "    d           \n",
      "──────────(E[y])\n",
      "d[treated]      \n",
      "Estimand assumption 1, Unconfoundedness: If U→{treated} and U→y then P(y|treated,,U) = P(y|treated,)\n",
      "\n",
      "### Estimand : 2\n",
      "Estimand name: iv\n",
      "No such variable(s) found!\n",
      "\n",
      "### Estimand : 3\n",
      "Estimand name: frontdoor\n",
      "No such variable(s) found!\n",
      "\n",
      "linear_regression\n",
      "{'control_value': 0, 'treatment_value': 1, 'test_significance': None, 'evaluate_effect_strength': False, 'confidence_intervals': False, 'target_units': 'ate', 'effect_modifiers': ['U']}\n",
      "DoWhy Causal Estimate (via Regression): 5.559021539392276\n"
     ]
    },
    {
     "name": "stderr",
     "output_type": "stream",
     "text": [
      "/Users/fabioyamada/miniconda3/envs/.causal_inference/lib/python3.12/site-packages/dowhy/causal_estimators/regression_estimator.py:59: FutureWarning: Series.__getitem__ treating keys as positions is deprecated. In a future version, integer keys will always be treated as labels (consistent with DataFrame behavior). To access a value by position, use `ser.iloc[pos]`\n",
      "  intercept_parameter = self.model.params[0]\n"
     ]
    },
    {
     "data": {
      "image/png": "[encoded data removed]",
      "text/plain": [
       "<Figure size 800x600 with 1 Axes>"
      ]
     },
     "metadata": {},
     "output_type": "display_data"
    }
   ],
   "source": [
    "# Import necessary libraries\n",
    "import numpy as np\n",
    "import pandas as pd\n",
    "import dowhy\n",
    "from dowhy import CausalModel\n",
    "import statsmodels.api as sm\n",
    "\n",
    "# Set random seed for reproducibility\n",
    "np.random.seed(42)\n",
    "\n",
    "# ----------------------------------------------------------------------\n",
    "# Step 1: Simulate Synthetic Data for Difference-in-Differences\n",
    "# ----------------------------------------------------------------------\n",
    "# For simplicity, we assume 200 units where the first 100 are in the treatment group\n",
    "# and the remaining 100 are in the control group.\n",
    "# Data is collected for two time periods: 0 (pre-treatment) and 1 (post-treatment).\n",
    "\n",
    "n_units = 200   # Total units, 100 treatment and 100 control\n",
    "data = []\n",
    "for unit in range(n_units):\n",
    "    # Assign treatment: first 100 units receive treatment\n",
    "    treated = 1 if unit < 100 else 0\n",
    "    # Each unit has a baseline outcome drawn from a normal distribution\n",
    "    baseline = np.random.normal(50, 10)\n",
    "    # Iterate over two time periods: 0 for pre-treatment, 1 for post-treatment\n",
    "    for time_period in [0, 1]:\n",
    "        # Define a common trend across time periods (5 units increase when time_period==1)\n",
    "        trend = 5 * time_period\n",
    "        # Treatment effect applies only for treated units in the post-treatment period\n",
    "        treatment_effect = 10 if (treated == 1 and time_period == 1) else 0\n",
    "        # Simulate outcome with some added noise\n",
    "        y = baseline + trend + treatment_effect + np.random.normal(0, 5)\n",
    "        data.append([unit, treated, time_period, y])\n",
    "        \n",
    "# Create a DataFrame from the simulated data\n",
    "df = pd.DataFrame(data, columns=[\"unit\", \"treated\", \"post\", \"y\"])\n",
    "\n",
    "# Create an interaction term (treated x post) as required by the DiD model\n",
    "df[\"did\"] = df[\"treated\"] * df[\"post\"]\n",
    "\n",
    "# ----------------------------------------------------------------------\n",
    "# Step 2: Estimate DiD Effect Using OLS Regression\n",
    "# ----------------------------------------------------------------------\n",
    "# The DiD model is specified as:\n",
    "#   y = β₀ + β₁ * treated + β₂ * post + β₃ * (treated × post) + ε\n",
    "# The coefficient β₃ is the DiD causal effect estimate.\n",
    "\n",
    "X = sm.add_constant(df[[\"treated\", \"post\", \"did\"]])\n",
    "model_ols = sm.OLS(df[\"y\"], X).fit()\n",
    "print(model_ols.summary())\n",
    "\n",
    "# The coefficient on the \"did\" variable represents the causal impact of the treatment.\n",
    "print(\"Difference-in-Differences Estimate (β₃):\", model_ols.params[\"did\"])\n",
    "\n",
    "# ----------------------------------------------------------------------\n",
    "# Step 3: Formalize the Causal Model Using DoWhy\n",
    "# ----------------------------------------------------------------------\n",
    "# In line with the decision tree in the Uber paper, we define a simplified causal graph.\n",
    "# The graph below shows that both treatment (X) and time (T) impact the outcome (Y),\n",
    "# consistent with a DiD setup. Note that additional unobserved confounders (U) may\n",
    "# influence the outcome but are assumed to affect both groups similarly (parallel trends).\n",
    "\n",
    "causal_graph = \"\"\"\n",
    "digraph {\n",
    "    U [label=\"Unobserved\\nFactors\"];\n",
    "    treated [label=\"Treatment\\n(treated)\"];\n",
    "    post [label=\"Time\\n(post)\"];\n",
    "    y [label=\"Outcome\\n(y)\"];\n",
    "    treated -> y;\n",
    "    post -> y;\n",
    "    treated -> post;\n",
    "    U -> y;\n",
    "}\n",
    "\"\"\"\n",
    "\n",
    "# Create a causal model with DoWhy based on the simulated data and graph\n",
    "model_dowhy = CausalModel(\n",
    "    data=df,\n",
    "    treatment=\"treated\",\n",
    "    outcome=\"y\",\n",
    "    graph=causal_graph\n",
    ")\n",
    "\n",
    "# (Optional) Visualize the causal graph in a Jupyter Notebook:\n",
    "model_dowhy.view_model()\n",
    "\n",
    "# Identify the causal effect from the graph and data\n",
    "identified_estimand = model_dowhy.identify_effect()\n",
    "print(\"\\nIdentified Estimand:\", identified_estimand)\n",
    "\n",
    "# Estimate the effect using the backdoor linear regression estimator available in DoWhy\n",
    "estimate = model_dowhy.estimate_effect(identified_estimand,\n",
    "                                       method_name=\"backdoor.linear_regression\")\n",
    "print(\"DoWhy Causal Estimate (via Regression):\", estimate.value)\n"
   ]
  },
  {
   "cell_type": "markdown",
   "metadata": {},
   "source": [
    "The post column in the dataframe represents the time period, where:\n",
    "\n",
    "- post = 0 means pre-intervention/pre-treatment period\n",
    "- post = 1 means post-intervention/post-treatment period\n",
    "This code is simulating a classic difference-in-differences (DiD) scenario:\n",
    "\n",
    "1 - Data structure: The code creates data for 200 units observed across 2 time periods:\n",
    "\n",
    "- 100 units are assigned to the treatment group (treated = 1)\n",
    "- 100 units are assigned to the control group (treated = 0)\n",
    "- Each unit is observed twice: once before treatment (post = 0) and once after (post = 1)\n",
    "\n",
    "2 - Outcome generation: For each unit-time observation, the outcome y is calculated as:\n",
    "\n",
    "- baseline: A random base value for each unit (varies between units but constant over time)\n",
    "- trend: A common time trend that affects both groups (5 units increase in period 1)\n",
    "- treatment_effect: An effect of 10 units that ONLY applies to treated units in the post period\n",
    "- Random noise\n",
    "\n",
    "3 - DiD setup: The code then creates the interaction term did = treated * post, which equals 1 only for treated units in the post-treatment period - exactly where the treatment effect occurs.\n",
    "\n",
    "The DiD analysis estimates the causal effect by comparing how outcomes changed in the treatment group versus how they changed in the control group, thus accounting for time trends and baseline differences between groups."
   ]
  },
  {
   "cell_type": "markdown",
   "metadata": {},
   "source": [
    "## Interpreting the Difference-in-Differences Analysis Results\n",
    "\n",
    "The results from your difference-in-differences (DiD) analysis provide valuable insights into the causal effect of the treatment. Let me break down what these numbers mean:\n",
    "\n",
    "### Regression Results Interpretation\n",
    "\n",
    "The OLS regression output shows several key findings:\n",
    "\n",
    "- **Baseline (const)**: The average outcome for the control group in the pre-treatment period is approximately 49.78 units.\n",
    "\n",
    "- **Treated coefficient (0.22)**: This small and statistically insignificant coefficient (p=0.878) indicates there was virtually no difference between treatment and control groups at baseline. This is good news as it suggests the groups were well-balanced before the intervention.\n",
    "\n",
    "- **Post coefficient (5.62)**: This statistically significant coefficient (p<0.001) represents the time trend that affected both groups. It tells us that even without any treatment, we would expect outcomes to increase by about 5.62 units over time.\n",
    "\n",
    "- **DiD coefficient (10.67)**: This is the key causal effect estimate. The statistically significant coefficient (p<0.001) indicates that the treatment caused an additional increase of 10.67 units in the outcome, beyond what would have happened naturally over time.\n",
    "\n",
    "### The Causal Effect\n",
    "\n",
    "The difference-in-differences estimate of 10.67 closely matches the true treatment effect of 10 that was built into your simulated data. This confirms that the DiD method successfully recovered the causal effect.\n",
    "\n",
    "To put this in everyday terms, imagine you're evaluating a new teaching method:\n",
    "- Without the new method, student test scores naturally improve by about 5.6 points from fall to spring semester (the time effect)\n",
    "- With the new teaching method, student scores improve by about 16.3 points (5.6 + 10.7)\n",
    "- Therefore, the causal impact of the new teaching method is about 10.7 additional points\n",
    "\n",
    "### DoWhy vs. Traditional DiD\n",
    "\n",
    "Interestingly, the DoWhy causal estimate (5.56) differs from the DiD estimate (10.67). This discrepancy likely stems from how DoWhy implements the backdoor adjustment method, which doesn't fully capture the time-interaction component central to DiD analysis. The traditional DiD estimate from the regression is more reliable in this specific case because it was explicitly designed to model the interaction between treatment and time.\n",
    "\n",
    "Think of it like measuring the height of a building: the DiD approach measures from ground to roof (the full effect), while the DoWhy implementation in this case might be measuring only to a middle floor (partial effect).\n",
    "\n",
    "### Model Fit and Validity\n",
    "\n",
    "The R-squared value of 0.302 indicates that about 30% of the variation in outcomes is explained by the model. While this might seem modest, it's actually reasonable for a DiD analysis where we're focusing specifically on isolating the causal effect rather than explaining all variation.\n",
    "\n",
    "The Durbin-Watson statistic (1.301) suggests some positive autocorrelation in the residuals, which is common in panel data. In a real-world analysis, you might want to use clustered standard errors to account for this.\n",
    "\n",
    "Overall, the analysis successfully demonstrates that the DiD approach can accurately estimate causal effects when the parallel trends assumption holds, as it did in this simulated dataset.\n",
    "\n",
    "---"
   ]
  },
  {
   "cell_type": "code",
   "execution_count": 2,
   "metadata": {},
   "outputs": [
    {
     "data": {
      "application/vnd.microsoft.datawrangler.viewer.v0+json": {
       "columns": [
        {
         "name": "index",
         "rawType": "int64",
         "type": "integer"
        },
        {
         "name": "unit",
         "rawType": "int64",
         "type": "integer"
        },
        {
         "name": "treated",
         "rawType": "int64",
         "type": "integer"
        },
        {
         "name": "post",
         "rawType": "int64",
         "type": "integer"
        },
        {
         "name": "y",
         "rawType": "float64",
         "type": "float"
        },
        {
         "name": "did",
         "rawType": "int64",
         "type": "integer"
        }
       ],
       "conversionMethod": "pd.DataFrame",
       "ref": "df6c7d53-8ee9-4e9f-a0eb-82f788e4a9e4",
       "rows": [
        [
         "0",
         "0",
         "1",
         "0",
         "54.275820024256404",
         "0"
        ],
        [
         "1",
         "0",
         "1",
         "1",
         "73.20558422061579",
         "1"
        ],
        [
         "2",
         "1",
         "1",
         "0",
         "64.05953169046357",
         "0"
        ],
        [
         "3",
         "1",
         "1",
         "1",
         "79.05961377933436",
         "1"
        ],
        [
         "4",
         "2",
         "1",
         "0",
         "69.62930180083845",
         "0"
        ],
        [
         "5",
         "2",
         "1",
         "1",
         "78.44475622539915",
         "1"
        ],
        [
         "6",
         "3",
         "1",
         "0",
         "53.10851197179734",
         "0"
        ],
        [
         "7",
         "3",
         "1",
         "1",
         "68.09695166800836",
         "1"
        ],
        [
         "8",
         "4",
         "1",
         "0",
         "42.85322149237135",
         "0"
        ],
        [
         "9",
         "4",
         "1",
         "1",
         "58.79503355309517",
         "1"
        ],
        [
         "10",
         "5",
         "1",
         "0",
         "39.31296910591815",
         "0"
        ],
        [
         "11",
         "5",
         "1",
         "1",
         "60.94836137056664",
         "1"
        ],
        [
         "12",
         "6",
         "1",
         "0",
         "33.858240738111434",
         "0"
        ],
        [
         "13",
         "6",
         "1",
         "1",
         "63.24800308939566",
         "1"
        ],
        [
         "14",
         "7",
         "1",
         "0",
         "48.07987801857426",
         "0"
        ],
        [
         "15",
         "7",
         "1",
         "1",
         "55.618496064067365",
         "1"
        ],
        [
         "16",
         "8",
         "1",
         "0",
         "45.11078570329751",
         "0"
        ],
        [
         "17",
         "8",
         "1",
         "1",
         "53.80120486763666",
         "1"
        ],
        [
         "18",
         "9",
         "1",
         "0",
         "50.7537867338627",
         "0"
        ],
        [
         "19",
         "9",
         "1",
         "1",
         "67.29851143449034",
         "1"
        ],
        [
         "20",
         "10",
         "1",
         "0",
         "53.24432480025072",
         "0"
        ],
        [
         "21",
         "10",
         "1",
         "1",
         "58.91544775401636",
         "1"
        ],
        [
         "22",
         "11",
         "1",
         "0",
         "43.53561527095694",
         "0"
        ],
        [
         "23",
         "11",
         "1",
         "1",
         "48.31867246058589",
         "1"
        ],
        [
         "24",
         "12",
         "1",
         "0",
         "42.29028533064867",
         "0"
        ],
        [
         "25",
         "12",
         "1",
         "1",
         "60.44770570555539",
         "1"
        ],
        [
         "26",
         "13",
         "1",
         "0",
         "55.660945258668285",
         "0"
        ],
        [
         "27",
         "13",
         "1",
         "1",
         "67.82545376464108",
         "1"
        ],
        [
         "28",
         "14",
         "1",
         "0",
         "47.33799869817115",
         "0"
        ],
        [
         "29",
         "14",
         "1",
         "1",
         "56.450907224280456",
         "1"
        ],
        [
         "30",
         "15",
         "1",
         "0",
         "40.49836406125398",
         "0"
        ],
        [
         "31",
         "15",
         "1",
         "1",
         "63.08716904714749",
         "1"
        ],
        [
         "32",
         "16",
         "1",
         "0",
         "44.62098211887095",
         "0"
        ],
        [
         "33",
         "16",
         "1",
         "1",
         "70.0566027426586",
         "1"
        ],
        [
         "34",
         "17",
         "1",
         "0",
         "42.76456719430704",
         "0"
        ],
        [
         "35",
         "17",
         "1",
         "1",
         "64.20755864004117",
         "1"
        ],
        [
         "36",
         "18",
         "1",
         "0",
         "64.9663958205405",
         "0"
        ],
        [
         "37",
         "18",
         "1",
         "1",
         "71.11390760884632",
         "1"
        ],
        [
         "38",
         "19",
         "1",
         "0",
         "48.56419339850567",
         "0"
        ],
        [
         "39",
         "19",
         "1",
         "1",
         "66.78560187709965",
         "1"
        ],
        [
         "40",
         "20",
         "1",
         "0",
         "44.279962738228015",
         "0"
        ],
        [
         "41",
         "20",
         "1",
         "1",
         "54.67658275151696",
         "1"
        ],
        [
         "42",
         "21",
         "1",
         "0",
         "42.100562871164286",
         "0"
        ],
        [
         "43",
         "21",
         "1",
         "1",
         "59.81913390204741",
         "1"
        ],
        [
         "44",
         "22",
         "1",
         "0",
         "54.29756327365678",
         "0"
        ],
        [
         "45",
         "22",
         "1",
         "1",
         "66.08807890943483",
         "1"
        ],
        [
         "46",
         "23",
         "1",
         "0",
         "45.35578048149083",
         "0"
        ],
        [
         "47",
         "23",
         "1",
         "1",
         "66.2389852862786",
         "1"
        ],
        [
         "48",
         "24",
         "1",
         "0",
         "57.46495788797052",
         "0"
        ],
        [
         "49",
         "24",
         "1",
         "1",
         "51.543014088451756",
         "1"
        ]
       ],
       "shape": {
        "columns": 5,
        "rows": 400
       }
      },
      "text/html": [
       "<div>\n",
       "<style scoped>\n",
       "    .dataframe tbody tr th:only-of-type {\n",
       "        vertical-align: middle;\n",
       "    }\n",
       "\n",
       "    .dataframe tbody tr th {\n",
       "        vertical-align: top;\n",
       "    }\n",
       "\n",
       "    .dataframe thead th {\n",
       "        text-align: right;\n",
       "    }\n",
       "</style>\n",
       "<table border=\"1\" class=\"dataframe\">\n",
       "  <thead>\n",
       "    <tr style=\"text-align: right;\">\n",
       "      <th></th>\n",
       "      <th>unit</th>\n",
       "      <th>treated</th>\n",
       "      <th>post</th>\n",
       "      <th>y</th>\n",
       "      <th>did</th>\n",
       "    </tr>\n",
       "  </thead>\n",
       "  <tbody>\n",
       "    <tr>\n",
       "      <th>0</th>\n",
       "      <td>0</td>\n",
       "      <td>1</td>\n",
       "      <td>0</td>\n",
       "      <td>54.275820</td>\n",
       "      <td>0</td>\n",
       "    </tr>\n",
       "    <tr>\n",
       "      <th>1</th>\n",
       "      <td>0</td>\n",
       "      <td>1</td>\n",
       "      <td>1</td>\n",
       "      <td>73.205584</td>\n",
       "      <td>1</td>\n",
       "    </tr>\n",
       "    <tr>\n",
       "      <th>2</th>\n",
       "      <td>1</td>\n",
       "      <td>1</td>\n",
       "      <td>0</td>\n",
       "      <td>64.059532</td>\n",
       "      <td>0</td>\n",
       "    </tr>\n",
       "    <tr>\n",
       "      <th>3</th>\n",
       "      <td>1</td>\n",
       "      <td>1</td>\n",
       "      <td>1</td>\n",
       "      <td>79.059614</td>\n",
       "      <td>1</td>\n",
       "    </tr>\n",
       "    <tr>\n",
       "      <th>4</th>\n",
       "      <td>2</td>\n",
       "      <td>1</td>\n",
       "      <td>0</td>\n",
       "      <td>69.629302</td>\n",
       "      <td>0</td>\n",
       "    </tr>\n",
       "    <tr>\n",
       "      <th>...</th>\n",
       "      <td>...</td>\n",
       "      <td>...</td>\n",
       "      <td>...</td>\n",
       "      <td>...</td>\n",
       "      <td>...</td>\n",
       "    </tr>\n",
       "    <tr>\n",
       "      <th>395</th>\n",
       "      <td>197</td>\n",
       "      <td>0</td>\n",
       "      <td>1</td>\n",
       "      <td>51.891736</td>\n",
       "      <td>0</td>\n",
       "    </tr>\n",
       "    <tr>\n",
       "      <th>396</th>\n",
       "      <td>198</td>\n",
       "      <td>0</td>\n",
       "      <td>0</td>\n",
       "      <td>57.825317</td>\n",
       "      <td>0</td>\n",
       "    </tr>\n",
       "    <tr>\n",
       "      <th>397</th>\n",
       "      <td>198</td>\n",
       "      <td>0</td>\n",
       "      <td>1</td>\n",
       "      <td>64.026025</td>\n",
       "      <td>0</td>\n",
       "    </tr>\n",
       "    <tr>\n",
       "      <th>398</th>\n",
       "      <td>199</td>\n",
       "      <td>0</td>\n",
       "      <td>0</td>\n",
       "      <td>37.990897</td>\n",
       "      <td>0</td>\n",
       "    </tr>\n",
       "    <tr>\n",
       "      <th>399</th>\n",
       "      <td>199</td>\n",
       "      <td>0</td>\n",
       "      <td>1</td>\n",
       "      <td>47.098865</td>\n",
       "      <td>0</td>\n",
       "    </tr>\n",
       "  </tbody>\n",
       "</table>\n",
       "<p>400 rows × 5 columns</p>\n",
       "</div>"
      ],
      "text/plain": [
       "     unit  treated  post          y  did\n",
       "0       0        1     0  54.275820    0\n",
       "1       0        1     1  73.205584    1\n",
       "2       1        1     0  64.059532    0\n",
       "3       1        1     1  79.059614    1\n",
       "4       2        1     0  69.629302    0\n",
       "..    ...      ...   ...        ...  ...\n",
       "395   197        0     1  51.891736    0\n",
       "396   198        0     0  57.825317    0\n",
       "397   198        0     1  64.026025    0\n",
       "398   199        0     0  37.990897    0\n",
       "399   199        0     1  47.098865    0\n",
       "\n",
       "[400 rows x 5 columns]"
      ]
     },
     "execution_count": 2,
     "metadata": {},
     "output_type": "execute_result"
    }
   ],
   "source": [
    "df"
   ]
  }
 ],
 "metadata": {
  "kernelspec": {
   "display_name": ".causal_inference",
   "language": "python",
   "name": "python3"
  },
  "language_info": {
   "codemirror_mode": {
    "name": "ipython",
    "version": 3
   },
   "file_extension": ".py",
   "mimetype": "text/x-python",
   "name": "python",
   "nbconvert_exporter": "python",
   "pygments_lexer": "ipython3",
   "version": "3.12.2"
  }
 },
 "nbformat": 4,
 "nbformat_minor": 2
}
