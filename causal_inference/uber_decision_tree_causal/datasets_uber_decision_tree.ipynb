{
 "cells": [
  {
   "cell_type": "code",
   "execution_count": null,
   "metadata": {},
   "outputs": [],
   "source": [
    "# Simulate repeated observations over time\n",
    "import numpy as np\n",
    "import pandas as pd\n",
    "import matplotlib.pyplot as plt\n",
    "\n",
    "np.random.seed(42)\n",
    "time_periods = 50\n",
    "units = 10\n",
    "\n",
    "baseline = np.random.normal(100, 10, size=(units, time_periods))\n",
    "treatment_effect = np.zeros((units, time_periods))\n",
    "treatment_effect[:, 25:] = 10\n",
    "\n",
    "outcome = baseline + treatment_effect + np.random.normal(0, 5, size=(units, time_periods))\n",
    "\n",
    "rows = []\n",
    "for unit in range(units):\n",
    "    for t in range(time_periods):\n",
    "        rows.append([unit, t, outcome[unit, t], 1 if t >= 25 else 0])\n",
    "\n",
    "data = pd.DataFrame(rows, columns=['unit', 'time', 'outcome', 'treatment'])\n",
    "\n",
    "# Plot outcomes over time\n",
    "plt.figure(figsize=(10, 6))\n",
    "for unit in range(units):\n",
    "    plt.plot(data[data['unit'] == unit]['time'], data[data['unit'] == unit]['outcome'], label=f'Unit {unit}')\n",
    "plt.axvline(x=25, color='red', linestyle='--', label='Intervention')\n",
    "plt.title('Simulated Outcome Over Time')\n",
    "plt.xlabel('Time')\n",
    "plt.ylabel('Outcome')\n",
    "plt.legend(loc='upper left', bbox_to_anchor=(1, 1))\n",
    "plt.show()\n"
   ]
  }
 ],
 "metadata": {
  "kernelspec": {
   "display_name": ".causal_inference",
   "language": "python",
   "name": "python3"
  },
  "language_info": {
   "name": "python",
   "version": "3.12.2"
  }
 },
 "nbformat": 4,
 "nbformat_minor": 2
}
