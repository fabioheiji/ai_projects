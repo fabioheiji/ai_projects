{
 "cells": [
  {
   "cell_type": "code",
   "execution_count": 19,
   "metadata": {},
   "outputs": [],
   "source": [
    "import pulp\n",
    "import pandas as pd\n",
    "import random"
   ]
  },
  {
   "cell_type": "code",
   "execution_count": 20,
   "metadata": {},
   "outputs": [],
   "source": [
    "\n",
    "\n",
    "# Sample data for SKUs. Each dictionary represents a product with its attributes.\n",
    "# In practice, you could load this from a CSV or database.\n",
    "data = [\n",
    "    {\"sku\": \"sku1\", \"net_sales\": 100, \"OTIF\": 0.95, \"turnover\": 200, \"NPS\": 8, \"family\": \"A\"},\n",
    "    {\"sku\": \"sku2\", \"net_sales\": 150, \"OTIF\": 0.90, \"turnover\": 300, \"NPS\": 7, \"family\": \"B\"},\n",
    "    {\"sku\": \"sku3\", \"net_sales\": 120, \"OTIF\": 0.98, \"turnover\": 250, \"NPS\": 9, \"family\": \"C\"},\n",
    "    {\"sku\": \"sku4\", \"net_sales\": 130, \"OTIF\": 0.92, \"turnover\": 220, \"NPS\": 8, \"family\": \"D\"},\n",
    "    # Add additional SKU records as needed\n",
    "]"
   ]
  },
  {
   "cell_type": "code",
   "execution_count": 21,
   "metadata": {},
   "outputs": [
    {
     "data": {
      "application/vnd.microsoft.datawrangler.viewer.v0+json": {
       "columns": [
        {
         "name": "index",
         "rawType": "int64",
         "type": "integer"
        },
        {
         "name": "sku",
         "rawType": "object",
         "type": "string"
        },
        {
         "name": "net_sales",
         "rawType": "int64",
         "type": "integer"
        },
        {
         "name": "OTIF",
         "rawType": "float64",
         "type": "float"
        },
        {
         "name": "turnover",
         "rawType": "int64",
         "type": "integer"
        },
        {
         "name": "NPS",
         "rawType": "int64",
         "type": "integer"
        },
        {
         "name": "family",
         "rawType": "object",
         "type": "string"
        }
       ],
       "conversionMethod": "pd.DataFrame",
       "ref": "eee86a13-e7d7-4bc7-9bfc-1b15ef65cc64",
       "rows": [
        [
         "0",
         "sku1",
         "100",
         "0.95",
         "200",
         "8",
         "A"
        ],
        [
         "1",
         "sku2",
         "150",
         "0.9",
         "300",
         "7",
         "B"
        ],
        [
         "2",
         "sku3",
         "120",
         "0.98",
         "250",
         "9",
         "C"
        ],
        [
         "3",
         "sku4",
         "130",
         "0.92",
         "220",
         "8",
         "D"
        ]
       ],
       "shape": {
        "columns": 6,
        "rows": 4
       }
      },
      "text/html": [
       "<div>\n",
       "<style scoped>\n",
       "    .dataframe tbody tr th:only-of-type {\n",
       "        vertical-align: middle;\n",
       "    }\n",
       "\n",
       "    .dataframe tbody tr th {\n",
       "        vertical-align: top;\n",
       "    }\n",
       "\n",
       "    .dataframe thead th {\n",
       "        text-align: right;\n",
       "    }\n",
       "</style>\n",
       "<table border=\"1\" class=\"dataframe\">\n",
       "  <thead>\n",
       "    <tr style=\"text-align: right;\">\n",
       "      <th></th>\n",
       "      <th>sku</th>\n",
       "      <th>net_sales</th>\n",
       "      <th>OTIF</th>\n",
       "      <th>turnover</th>\n",
       "      <th>NPS</th>\n",
       "      <th>family</th>\n",
       "    </tr>\n",
       "  </thead>\n",
       "  <tbody>\n",
       "    <tr>\n",
       "      <th>0</th>\n",
       "      <td>sku1</td>\n",
       "      <td>100</td>\n",
       "      <td>0.95</td>\n",
       "      <td>200</td>\n",
       "      <td>8</td>\n",
       "      <td>A</td>\n",
       "    </tr>\n",
       "    <tr>\n",
       "      <th>1</th>\n",
       "      <td>sku2</td>\n",
       "      <td>150</td>\n",
       "      <td>0.90</td>\n",
       "      <td>300</td>\n",
       "      <td>7</td>\n",
       "      <td>B</td>\n",
       "    </tr>\n",
       "    <tr>\n",
       "      <th>2</th>\n",
       "      <td>sku3</td>\n",
       "      <td>120</td>\n",
       "      <td>0.98</td>\n",
       "      <td>250</td>\n",
       "      <td>9</td>\n",
       "      <td>C</td>\n",
       "    </tr>\n",
       "    <tr>\n",
       "      <th>3</th>\n",
       "      <td>sku4</td>\n",
       "      <td>130</td>\n",
       "      <td>0.92</td>\n",
       "      <td>220</td>\n",
       "      <td>8</td>\n",
       "      <td>D</td>\n",
       "    </tr>\n",
       "  </tbody>\n",
       "</table>\n",
       "</div>"
      ],
      "text/plain": [
       "    sku  net_sales  OTIF  turnover  NPS family\n",
       "0  sku1        100  0.95       200    8      A\n",
       "1  sku2        150  0.90       300    7      B\n",
       "2  sku3        120  0.98       250    9      C\n",
       "3  sku4        130  0.92       220    8      D"
      ]
     },
     "execution_count": 21,
     "metadata": {},
     "output_type": "execute_result"
    }
   ],
   "source": [
    "pd.DataFrame(data)"
   ]
  },
  {
   "cell_type": "code",
   "execution_count": 26,
   "metadata": {},
   "outputs": [
    {
     "data": {
      "application/vnd.microsoft.datawrangler.viewer.v0+json": {
       "columns": [
        {
         "name": "index",
         "rawType": "int64",
         "type": "integer"
        },
        {
         "name": "sku",
         "rawType": "object",
         "type": "string"
        },
        {
         "name": "net_sales",
         "rawType": "float64",
         "type": "float"
        },
        {
         "name": "OTIF",
         "rawType": "float64",
         "type": "float"
        },
        {
         "name": "turnover",
         "rawType": "int64",
         "type": "integer"
        },
        {
         "name": "NPS",
         "rawType": "int64",
         "type": "integer"
        },
        {
         "name": "family",
         "rawType": "int64",
         "type": "integer"
        }
       ],
       "conversionMethod": "pd.DataFrame",
       "ref": "38163e69-019e-4107-8908-02dd0848269c",
       "rows": [
        [
         "0",
         "sku0",
         "6860.686684214462",
         "83.0",
         "72",
         "63",
         "78"
        ],
        [
         "1",
         "sku1",
         "8940.744122488586",
         "22.91",
         "8",
         "88",
         "75"
        ],
        [
         "2",
         "sku2",
         "4070.158364121982",
         "43.97",
         "78",
         "44",
         "1"
        ],
        [
         "3",
         "sku3",
         "6000.697971241147",
         "28.52",
         "35",
         "54",
         "88"
        ],
        [
         "4",
         "sku4",
         "9806.933370801953",
         "39.7",
         "24",
         "95",
         "46"
        ],
        [
         "5",
         "sku5",
         "6197.205003224841",
         "98.57",
         "55",
         "88",
         "2"
        ],
        [
         "6",
         "sku6",
         "8859.083203928778",
         "10.33",
         "13",
         "61",
         "40"
        ],
        [
         "7",
         "sku7",
         "232.8002014658248",
         "35.9",
         "45",
         "90",
         "95"
        ],
        [
         "8",
         "sku8",
         "5200.5492866975055",
         "62.14",
         "74",
         "80",
         "30"
        ],
        [
         "9",
         "sku9",
         "3694.4509784834777",
         "2.23",
         "85",
         "9",
         "47"
        ],
        [
         "10",
         "sku10",
         "2608.6005945733327",
         "34.24",
         "37",
         "24",
         "74"
        ],
        [
         "11",
         "sku11",
         "3672.649422572197",
         "99.22",
         "25",
         "69",
         "64"
        ],
        [
         "12",
         "sku12",
         "6357.329996607636",
         "85.18",
         "22",
         "26",
         "96"
        ],
        [
         "13",
         "sku13",
         "424.2583189837601",
         "87.03",
         "82",
         "84",
         "92"
        ],
        [
         "14",
         "sku14",
         "4949.375791781101",
         "0.87",
         "26",
         "63",
         "1"
        ],
        [
         "15",
         "sku15",
         "7512.4040830032045",
         "33.52",
         "77",
         "79",
         "57"
        ],
        [
         "16",
         "sku16",
         "9737.916292505064",
         "50.28",
         "31",
         "20",
         "34"
        ],
        [
         "17",
         "sku17",
         "442.14177579366077",
         "38.12",
         "85",
         "89",
         "14"
        ],
        [
         "18",
         "sku18",
         "1012.8897046186491",
         "84.03",
         "10",
         "69",
         "58"
        ],
        [
         "19",
         "sku19",
         "937.325682226755",
         "58.46",
         "83",
         "53",
         "62"
        ],
        [
         "20",
         "sku20",
         "376.40812537303003",
         "88.57",
         "78",
         "96",
         "2"
        ],
        [
         "21",
         "sku21",
         "9502.229175375654",
         "31.18",
         "80",
         "24",
         "55"
        ],
        [
         "22",
         "sku22",
         "68.55525678397534",
         "34.17",
         "68",
         "97",
         "13"
        ],
        [
         "23",
         "sku23",
         "4596.532226979793",
         "82.59",
         "27",
         "18",
         "22"
        ],
        [
         "24",
         "sku24",
         "7219.2831187328675",
         "72.94",
         "92",
         "68",
         "99"
        ],
        [
         "25",
         "sku25",
         "8627.597833543176",
         "58.15",
         "70",
         "79",
         "40"
        ],
        [
         "26",
         "sku26",
         "7850.232122243796",
         "92.59",
         "49",
         "12",
         "54"
        ],
        [
         "27",
         "sku27",
         "4239.626109150263",
         "61.68",
         "5",
         "22",
         "24"
        ],
        [
         "28",
         "sku28",
         "315.5239439835733",
         "80.27",
         "51",
         "10",
         "56"
        ],
        [
         "29",
         "sku29",
         "3563.260875853821",
         "25.18",
         "41",
         "93",
         "70"
        ],
        [
         "30",
         "sku30",
         "1748.4127410494987",
         "49.67",
         "27",
         "53",
         "73"
        ],
        [
         "31",
         "sku31",
         "6527.713561107205",
         "24.59",
         "67",
         "78",
         "60"
        ],
        [
         "32",
         "sku32",
         "169.39349483754307",
         "97.62",
         "89",
         "96",
         "11"
        ],
        [
         "33",
         "sku33",
         "3599.9819741939464",
         "14.44",
         "87",
         "60",
         "76"
        ],
        [
         "34",
         "sku34",
         "658.0856052403872",
         "25.83",
         "81",
         "23",
         "29"
        ],
        [
         "35",
         "sku35",
         "2864.014044768033",
         "85.83",
         "89",
         "39",
         "64"
        ],
        [
         "36",
         "sku36",
         "9142.836556286607",
         "50.82",
         "30",
         "78",
         "7"
        ],
        [
         "37",
         "sku37",
         "813.3953413835793",
         "0.12",
         "62",
         "70",
         "38"
        ],
        [
         "38",
         "sku38",
         "6796.031825706142",
         "61.39",
         "84",
         "2",
         "17"
        ],
        [
         "39",
         "sku39",
         "9205.182055415245",
         "91.0",
         "75",
         "89",
         "10"
        ],
        [
         "40",
         "sku40",
         "1735.5339985019502",
         "36.95",
         "56",
         "20",
         "34"
        ],
        [
         "41",
         "sku41",
         "4675.8040498513465",
         "34.4",
         "4",
         "69",
         "29"
        ],
        [
         "42",
         "sku42",
         "3521.8953882045857",
         "75.67",
         "64",
         "25",
         "87"
        ],
        [
         "43",
         "sku43",
         "4432.199964046779",
         "51.75",
         "57",
         "13",
         "92"
        ],
        [
         "44",
         "sku44",
         "6036.5837696281",
         "77.92",
         "34",
         "36",
         "42"
        ],
        [
         "45",
         "sku45",
         "5162.094225231608",
         "70.26",
         "86",
         "17",
         "94"
        ],
        [
         "46",
         "sku46",
         "9359.407050674705",
         "29.78",
         "87",
         "81",
         "85"
        ],
        [
         "47",
         "sku47",
         "5822.652580380584",
         "41.22",
         "31",
         "27",
         "83"
        ],
        [
         "48",
         "sku48",
         "4077.702552758089",
         "61.66",
         "69",
         "89",
         "79"
        ],
        [
         "49",
         "sku49",
         "6962.588485307596",
         "3.86",
         "41",
         "98",
         "4"
        ]
       ],
       "shape": {
        "columns": 6,
        "rows": 100000
       }
      },
      "text/html": [
       "<div>\n",
       "<style scoped>\n",
       "    .dataframe tbody tr th:only-of-type {\n",
       "        vertical-align: middle;\n",
       "    }\n",
       "\n",
       "    .dataframe tbody tr th {\n",
       "        vertical-align: top;\n",
       "    }\n",
       "\n",
       "    .dataframe thead th {\n",
       "        text-align: right;\n",
       "    }\n",
       "</style>\n",
       "<table border=\"1\" class=\"dataframe\">\n",
       "  <thead>\n",
       "    <tr style=\"text-align: right;\">\n",
       "      <th></th>\n",
       "      <th>sku</th>\n",
       "      <th>net_sales</th>\n",
       "      <th>OTIF</th>\n",
       "      <th>turnover</th>\n",
       "      <th>NPS</th>\n",
       "      <th>family</th>\n",
       "    </tr>\n",
       "  </thead>\n",
       "  <tbody>\n",
       "    <tr>\n",
       "      <th>0</th>\n",
       "      <td>sku0</td>\n",
       "      <td>6860.686684</td>\n",
       "      <td>83.00</td>\n",
       "      <td>72</td>\n",
       "      <td>63</td>\n",
       "      <td>78</td>\n",
       "    </tr>\n",
       "    <tr>\n",
       "      <th>1</th>\n",
       "      <td>sku1</td>\n",
       "      <td>8940.744122</td>\n",
       "      <td>22.91</td>\n",
       "      <td>8</td>\n",
       "      <td>88</td>\n",
       "      <td>75</td>\n",
       "    </tr>\n",
       "    <tr>\n",
       "      <th>2</th>\n",
       "      <td>sku2</td>\n",
       "      <td>4070.158364</td>\n",
       "      <td>43.97</td>\n",
       "      <td>78</td>\n",
       "      <td>44</td>\n",
       "      <td>1</td>\n",
       "    </tr>\n",
       "    <tr>\n",
       "      <th>3</th>\n",
       "      <td>sku3</td>\n",
       "      <td>6000.697971</td>\n",
       "      <td>28.52</td>\n",
       "      <td>35</td>\n",
       "      <td>54</td>\n",
       "      <td>88</td>\n",
       "    </tr>\n",
       "    <tr>\n",
       "      <th>4</th>\n",
       "      <td>sku4</td>\n",
       "      <td>9806.933371</td>\n",
       "      <td>39.70</td>\n",
       "      <td>24</td>\n",
       "      <td>95</td>\n",
       "      <td>46</td>\n",
       "    </tr>\n",
       "    <tr>\n",
       "      <th>...</th>\n",
       "      <td>...</td>\n",
       "      <td>...</td>\n",
       "      <td>...</td>\n",
       "      <td>...</td>\n",
       "      <td>...</td>\n",
       "      <td>...</td>\n",
       "    </tr>\n",
       "    <tr>\n",
       "      <th>99995</th>\n",
       "      <td>sku99995</td>\n",
       "      <td>6425.565675</td>\n",
       "      <td>44.83</td>\n",
       "      <td>26</td>\n",
       "      <td>66</td>\n",
       "      <td>72</td>\n",
       "    </tr>\n",
       "    <tr>\n",
       "      <th>99996</th>\n",
       "      <td>sku99996</td>\n",
       "      <td>6364.821265</td>\n",
       "      <td>71.62</td>\n",
       "      <td>9</td>\n",
       "      <td>5</td>\n",
       "      <td>68</td>\n",
       "    </tr>\n",
       "    <tr>\n",
       "      <th>99997</th>\n",
       "      <td>sku99997</td>\n",
       "      <td>570.812081</td>\n",
       "      <td>72.48</td>\n",
       "      <td>5</td>\n",
       "      <td>47</td>\n",
       "      <td>15</td>\n",
       "    </tr>\n",
       "    <tr>\n",
       "      <th>99998</th>\n",
       "      <td>sku99998</td>\n",
       "      <td>7063.611250</td>\n",
       "      <td>10.63</td>\n",
       "      <td>57</td>\n",
       "      <td>15</td>\n",
       "      <td>44</td>\n",
       "    </tr>\n",
       "    <tr>\n",
       "      <th>99999</th>\n",
       "      <td>sku99999</td>\n",
       "      <td>2422.911589</td>\n",
       "      <td>29.71</td>\n",
       "      <td>85</td>\n",
       "      <td>4</td>\n",
       "      <td>20</td>\n",
       "    </tr>\n",
       "  </tbody>\n",
       "</table>\n",
       "<p>100000 rows × 6 columns</p>\n",
       "</div>"
      ],
      "text/plain": [
       "            sku    net_sales   OTIF  turnover  NPS  family\n",
       "0          sku0  6860.686684  83.00        72   63      78\n",
       "1          sku1  8940.744122  22.91         8   88      75\n",
       "2          sku2  4070.158364  43.97        78   44       1\n",
       "3          sku3  6000.697971  28.52        35   54      88\n",
       "4          sku4  9806.933371  39.70        24   95      46\n",
       "...         ...          ...    ...       ...  ...     ...\n",
       "99995  sku99995  6425.565675  44.83        26   66      72\n",
       "99996  sku99996  6364.821265  71.62         9    5      68\n",
       "99997  sku99997   570.812081  72.48         5   47      15\n",
       "99998  sku99998  7063.611250  10.63        57   15      44\n",
       "99999  sku99999  2422.911589  29.71        85    4      20\n",
       "\n",
       "[100000 rows x 6 columns]"
      ]
     },
     "execution_count": 26,
     "metadata": {},
     "output_type": "execute_result"
    }
   ],
   "source": [
    "otif_gen = lambda : round(random.random() * 100, 2)\n",
    "sku_gen = lambda : 'sku' + str(random.randint(0, 100))\n",
    "int_gen = lambda x: random.randint(0, x)\n",
    "float_gen = lambda x: random.random() * x\n",
    "family_gen = lambda : random.choice(['A', 'B', 'C', 'D', 'E'])\n",
    "\n",
    "data = [\n",
    "    {\n",
    "        \"sku\": 'sku' + str(i),\n",
    "        \"net_sales\": float_gen(10000),\n",
    "        \"OTIF\": otif_gen(),\n",
    "        \"turnover\": int_gen(100),\n",
    "        \"NPS\": int_gen(100),\n",
    "        \"family\": int_gen(100)\n",
    "    } for i in range(100000)\n",
    "]\n",
    "\n",
    "pd.DataFrame(data)"
   ]
  },
  {
   "cell_type": "code",
   "execution_count": 27,
   "metadata": {},
   "outputs": [
    {
     "name": "stdout",
     "output_type": "stream",
     "text": [
      "Welcome to the CBC MILP Solver \n",
      "Version: 2.10.3 \n",
      "Build Date: Dec 15 2019 \n",
      "\n",
      "command line - /Users/fabioyamada/miniconda3/envs/.optimization/lib/python3.12/site-packages/pulp/solverdir/cbc/osx/64/cbc /var/folders/1j/2s04pnsd0_n4srzj9y2v33qh0000gn/T/516d30fd77e14a4383959162a71faf79-pulp.mps -max -timeMode elapsed -branch -printingOptions all -solution /var/folders/1j/2s04pnsd0_n4srzj9y2v33qh0000gn/T/516d30fd77e14a4383959162a71faf79-pulp.sol (default strategy 1)\n",
      "At line 2 NAME          MODEL\n",
      "At line 3 ROWS\n",
      "At line 110 COLUMNS\n",
      "At line 798153 RHS\n",
      "At line 798259 BOUNDS\n",
      "At line 898260 ENDATA\n",
      "Problem MODEL has 105 rows, 100000 columns and 498042 elements\n",
      "Coin0008I MODEL read with 0 errors\n",
      "Option for timeMode changed from cpu to elapsed\n",
      "Continuous objective value is 998986 - 0.27 seconds\n",
      "Cgl0008I 101 inequality constraints converted to equality constraints\n",
      "Cgl0005I 101 SOS with 95255 members\n",
      "Cgl0004I processed model has 105 rows, 95255 columns (95255 integer (95255 of which binary)) and 473968 elements\n",
      "Cbc0038I Initial state - 0 integers unsatisfied sum - 8.84848e-14\n",
      "Cbc0038I Solution found of -998986\n",
      "Cbc0038I Before mini branch and bound, 95154 integers at bound fixed and 101 continuous\n",
      "Cbc0038I Mini branch and bound did not improve solution (1.06 seconds)\n",
      "Cbc0038I After 1.07 seconds - Feasibility pump exiting with objective of -998986 - took 0.13 seconds\n",
      "Cbc0012I Integer solution of -998985.73 found by feasibility pump after 0 iterations and 0 nodes (1.09 seconds)\n",
      "Cbc0001I Search completed - best objective -998985.7266093841, took 0 iterations and 0 nodes (1.11 seconds)\n",
      "Cbc0035I Maximum depth 0, 0 variables fixed on reduced cost\n",
      "Cuts at root node changed objective from -998986 to -998986\n",
      "Probing was tried 0 times and created 0 cuts of which 0 were active after adding rounds of cuts (0.000 seconds)\n",
      "Gomory was tried 0 times and created 0 cuts of which 0 were active after adding rounds of cuts (0.000 seconds)\n",
      "Knapsack was tried 0 times and created 0 cuts of which 0 were active after adding rounds of cuts (0.000 seconds)\n",
      "Clique was tried 0 times and created 0 cuts of which 0 were active after adding rounds of cuts (0.000 seconds)\n",
      "MixedIntegerRounding2 was tried 0 times and created 0 cuts of which 0 were active after adding rounds of cuts (0.000 seconds)\n",
      "FlowCover was tried 0 times and created 0 cuts of which 0 were active after adding rounds of cuts (0.000 seconds)\n",
      "TwoMirCuts was tried 0 times and created 0 cuts of which 0 were active after adding rounds of cuts (0.000 seconds)\n",
      "ZeroHalf was tried 0 times and created 0 cuts of which 0 were active after adding rounds of cuts (0.000 seconds)\n",
      "\n",
      "Result - Optimal solution found\n",
      "\n",
      "Objective value:                998985.72660938\n",
      "Enumerated nodes:               0\n",
      "Total iterations:               0\n",
      "Time (CPU seconds):             1.07\n",
      "Time (Wallclock seconds):       1.23\n",
      "\n",
      "Option for printingOptions changed from normal to all\n",
      "Total time (CPU seconds):       1.42   (Wallclock seconds):       1.63\n",
      "\n",
      "Status: Optimal\n",
      "Selected SKUs: ['sku85', 'sku613', 'sku631', 'sku2578', 'sku2692', 'sku3270', 'sku3679', 'sku3843', 'sku4049', 'sku5791', 'sku6282', 'sku6547', 'sku6554', 'sku6601', 'sku8986', 'sku9991', 'sku10489', 'sku11290', 'sku12471', 'sku12763', 'sku14215', 'sku18952', 'sku19071', 'sku19613', 'sku20014', 'sku21481', 'sku21811', 'sku23186', 'sku24050', 'sku24918', 'sku25665', 'sku25818', 'sku27180', 'sku27394', 'sku27798', 'sku27934', 'sku28582', 'sku29231', 'sku30795', 'sku30980', 'sku31222', 'sku33052', 'sku34628', 'sku34740', 'sku36112', 'sku36366', 'sku36436', 'sku41312', 'sku44680', 'sku45761', 'sku46304', 'sku46558', 'sku49391', 'sku50757', 'sku52309', 'sku54262', 'sku55999', 'sku56015', 'sku60282', 'sku60511', 'sku60852', 'sku61734', 'sku63634', 'sku65990', 'sku67764', 'sku68851', 'sku70775', 'sku74395', 'sku75577', 'sku75852', 'sku77451', 'sku77569', 'sku81340', 'sku81541', 'sku81843', 'sku83829', 'sku85093', 'sku85263', 'sku86504', 'sku86518', 'sku86857', 'sku87703', 'sku87917', 'sku88641', 'sku89144', 'sku89229', 'sku89629', 'sku89973', 'sku90066', 'sku91370', 'sku91398', 'sku93823', 'sku93827', 'sku94155', 'sku94522', 'sku96029', 'sku96104', 'sku97876', 'sku98241', 'sku98280']\n",
      "Total Net Sales: 998985.7266093846\n"
     ]
    }
   ],
   "source": [
    "# Define parameters\n",
    "max_skus = 100          # Maximum number of SKUs that can be placed at the checkout shelf.\n",
    "OTIF_min = 0.4          # Minimum average OTIF required.\n",
    "turnover_min = 40       # Minimum total turnover required.\n",
    "NPS_min = 7             # Minimum average NPS required.\n",
    "\n",
    "# Create the optimization problem (maximization)\n",
    "prob = pulp.LpProblem(\"Retail_Shelf_Optimization\", pulp.LpMaximize)\n",
    "\n",
    "# Define decision variables: x_i = 1 if SKU i is selected; 0 otherwise.\n",
    "sku_vars = {item[\"sku\"]: pulp.LpVariable(f\"x_{item['sku']}\", cat='Binary') for item in data}\n",
    "\n",
    "# Objective: Maximize total net sales from selected SKUs.\n",
    "prob += pulp.lpSum(item[\"net_sales\"] * sku_vars[item[\"sku\"]] for item in data), \"Total_Net_Sales\"\n",
    "\n",
    "# Constraint 1: Select at most 'max_skus' SKUs.\n",
    "prob += pulp.lpSum(sku_vars[item[\"sku\"]] for item in data) <= max_skus, \"Max_SKUs_Constraint\"\n",
    "\n",
    "# Constraint 2: Ensure the average OTIF of selected SKUs is at least OTIF_min.\n",
    "# This can be written as: sum((OTIF_i - OTIF_min)*x_i) >= 0\n",
    "prob += pulp.lpSum((item[\"OTIF\"] - OTIF_min) * sku_vars[item[\"sku\"]] for item in data) >= 0, \"OTIF_Constraint\"\n",
    "\n",
    "# Constraint 3: Do not select more than one SKU per product family.\n",
    "families = {}\n",
    "for item in data:\n",
    "    fam = item[\"family\"]\n",
    "    families.setdefault(fam, []).append(item[\"sku\"])\n",
    "\n",
    "for fam, sku_list in families.items():\n",
    "    prob += pulp.lpSum(sku_vars[sku] for sku in sku_list) <= 1, f\"Family_Constraint_{fam}\"\n",
    "\n",
    "# Constraint 4: Ensure the total turnover from selected SKUs is at least turnover_min.\n",
    "prob += pulp.lpSum(item[\"turnover\"] * sku_vars[item[\"sku\"]] for item in data) >= turnover_min, \"Turnover_Constraint\"\n",
    "\n",
    "# Constraint 5: Ensure the average NPS of selected SKUs is at least NPS_min.\n",
    "# Similarly, express as: sum((NPS_i - NPS_min)*x_i) >= 0\n",
    "prob += pulp.lpSum((item[\"NPS\"] - NPS_min) * sku_vars[item[\"sku\"]] for item in data) >= 0, \"NPS_Constraint\"\n",
    "\n",
    "# Solve the problem using the default CBC solver (free and offline)\n",
    "solver = pulp.PULP_CBC_CMD()\n",
    "result_status = prob.solve(solver)\n",
    "\n",
    "# Output the results\n",
    "print(\"Status:\", pulp.LpStatus[prob.status])\n",
    "selected_skus = [item[\"sku\"] for item in data if pulp.value(sku_vars[item[\"sku\"]]) == 1]\n",
    "print(\"Selected SKUs:\", selected_skus)\n",
    "print(\"Total Net Sales:\", pulp.value(prob.objective))"
   ]
  }
 ],
 "metadata": {
  "kernelspec": {
   "display_name": ".optimization",
   "language": "python",
   "name": "python3"
  },
  "language_info": {
   "codemirror_mode": {
    "name": "ipython",
    "version": 3
   },
   "file_extension": ".py",
   "mimetype": "text/x-python",
   "name": "python",
   "nbconvert_exporter": "python",
   "pygments_lexer": "ipython3",
   "version": "3.12.2"
  }
 },
 "nbformat": 4,
 "nbformat_minor": 2
}
